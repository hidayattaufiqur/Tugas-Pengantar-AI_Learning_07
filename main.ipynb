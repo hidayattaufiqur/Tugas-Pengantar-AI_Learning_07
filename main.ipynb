{
 "cells": [
  {
   "cell_type": "code",
   "execution_count": 1038,
   "metadata": {},
   "outputs": [],
   "source": [
    "import pandas as pd\n",
    "from operator import itemgetter"
   ]
  },
  {
   "cell_type": "code",
   "execution_count": 1039,
   "metadata": {},
   "outputs": [],
   "source": [
    "# read dataset\n",
    "df_train = pd.read_excel('./traintest.xlsx', 'train')\n",
    "df_test = pd.read_excel('./traintest.xlsx', 'test')"
   ]
  },
  {
   "cell_type": "code",
   "execution_count": 1040,
   "metadata": {},
   "outputs": [
    {
     "data": {
      "text/html": [
       "<div>\n",
       "<style scoped>\n",
       "    .dataframe tbody tr th:only-of-type {\n",
       "        vertical-align: middle;\n",
       "    }\n",
       "\n",
       "    .dataframe tbody tr th {\n",
       "        vertical-align: top;\n",
       "    }\n",
       "\n",
       "    .dataframe thead th {\n",
       "        text-align: right;\n",
       "    }\n",
       "</style>\n",
       "<table border=\"1\" class=\"dataframe\">\n",
       "  <thead>\n",
       "    <tr style=\"text-align: right;\">\n",
       "      <th></th>\n",
       "      <th>id</th>\n",
       "      <th>x1</th>\n",
       "      <th>x2</th>\n",
       "      <th>x3</th>\n",
       "      <th>y</th>\n",
       "    </tr>\n",
       "  </thead>\n",
       "  <tbody>\n",
       "    <tr>\n",
       "      <th>0</th>\n",
       "      <td>1</td>\n",
       "      <td>60</td>\n",
       "      <td>64</td>\n",
       "      <td>0</td>\n",
       "      <td>1</td>\n",
       "    </tr>\n",
       "    <tr>\n",
       "      <th>1</th>\n",
       "      <td>2</td>\n",
       "      <td>54</td>\n",
       "      <td>60</td>\n",
       "      <td>11</td>\n",
       "      <td>0</td>\n",
       "    </tr>\n",
       "    <tr>\n",
       "      <th>2</th>\n",
       "      <td>3</td>\n",
       "      <td>65</td>\n",
       "      <td>62</td>\n",
       "      <td>22</td>\n",
       "      <td>0</td>\n",
       "    </tr>\n",
       "    <tr>\n",
       "      <th>3</th>\n",
       "      <td>4</td>\n",
       "      <td>34</td>\n",
       "      <td>60</td>\n",
       "      <td>0</td>\n",
       "      <td>1</td>\n",
       "    </tr>\n",
       "    <tr>\n",
       "      <th>4</th>\n",
       "      <td>5</td>\n",
       "      <td>38</td>\n",
       "      <td>69</td>\n",
       "      <td>21</td>\n",
       "      <td>0</td>\n",
       "    </tr>\n",
       "  </tbody>\n",
       "</table>\n",
       "</div>"
      ],
      "text/plain": [
       "   id  x1  x2  x3  y\n",
       "0   1  60  64   0  1\n",
       "1   2  54  60  11  0\n",
       "2   3  65  62  22  0\n",
       "3   4  34  60   0  1\n",
       "4   5  38  69  21  0"
      ]
     },
     "execution_count": 1040,
     "metadata": {},
     "output_type": "execute_result"
    }
   ],
   "source": [
    "df_train.head()"
   ]
  },
  {
   "cell_type": "code",
   "execution_count": 1041,
   "metadata": {},
   "outputs": [
    {
     "data": {
      "text/html": [
       "<div>\n",
       "<style scoped>\n",
       "    .dataframe tbody tr th:only-of-type {\n",
       "        vertical-align: middle;\n",
       "    }\n",
       "\n",
       "    .dataframe tbody tr th {\n",
       "        vertical-align: top;\n",
       "    }\n",
       "\n",
       "    .dataframe thead th {\n",
       "        text-align: right;\n",
       "    }\n",
       "</style>\n",
       "<table border=\"1\" class=\"dataframe\">\n",
       "  <thead>\n",
       "    <tr style=\"text-align: right;\">\n",
       "      <th></th>\n",
       "      <th>id</th>\n",
       "      <th>x1</th>\n",
       "      <th>x2</th>\n",
       "      <th>x3</th>\n",
       "      <th>y</th>\n",
       "    </tr>\n",
       "  </thead>\n",
       "  <tbody>\n",
       "    <tr>\n",
       "      <th>0</th>\n",
       "      <td>297</td>\n",
       "      <td>43</td>\n",
       "      <td>59</td>\n",
       "      <td>2</td>\n",
       "      <td>?</td>\n",
       "    </tr>\n",
       "    <tr>\n",
       "      <th>1</th>\n",
       "      <td>298</td>\n",
       "      <td>67</td>\n",
       "      <td>66</td>\n",
       "      <td>0</td>\n",
       "      <td>?</td>\n",
       "    </tr>\n",
       "    <tr>\n",
       "      <th>2</th>\n",
       "      <td>299</td>\n",
       "      <td>58</td>\n",
       "      <td>60</td>\n",
       "      <td>3</td>\n",
       "      <td>?</td>\n",
       "    </tr>\n",
       "    <tr>\n",
       "      <th>3</th>\n",
       "      <td>300</td>\n",
       "      <td>49</td>\n",
       "      <td>63</td>\n",
       "      <td>3</td>\n",
       "      <td>?</td>\n",
       "    </tr>\n",
       "    <tr>\n",
       "      <th>4</th>\n",
       "      <td>301</td>\n",
       "      <td>45</td>\n",
       "      <td>60</td>\n",
       "      <td>0</td>\n",
       "      <td>?</td>\n",
       "    </tr>\n",
       "  </tbody>\n",
       "</table>\n",
       "</div>"
      ],
      "text/plain": [
       "    id  x1  x2  x3  y\n",
       "0  297  43  59   2  ?\n",
       "1  298  67  66   0  ?\n",
       "2  299  58  60   3  ?\n",
       "3  300  49  63   3  ?\n",
       "4  301  45  60   0  ?"
      ]
     },
     "execution_count": 1041,
     "metadata": {},
     "output_type": "execute_result"
    }
   ],
   "source": [
    "df_test.head()"
   ]
  },
  {
   "cell_type": "code",
   "execution_count": 1042,
   "metadata": {},
   "outputs": [],
   "source": [
    "# convert dataframe to list\n",
    "train = df_train.values.tolist()\n",
    "test = df_test.values.tolist()"
   ]
  },
  {
   "cell_type": "code",
   "execution_count": 1043,
   "metadata": {},
   "outputs": [],
   "source": [
    "# euclidean distance\n",
    "def euclidean_distance(x, y):\n",
    "    distance = 0\n",
    "    for i in range(len(y)):\n",
    "        distance += (x[i] - y[i])**2\n",
    "    return distance ** (1/2)\n",
    "\n",
    "# get k nearest neighbors\n",
    "def get_neighbors(x, y, k): \n",
    "    distances = []\n",
    "    neighbors = [] \n",
    "\n",
    "    # loop through the list of train dataset\n",
    "    for row in x:\n",
    "        # append tuple of x-th row in the train dataset and its distance\n",
    "        distances.append((row, euclidean_distance(row[1:], y)))\n",
    "    \n",
    "    # sort distances list by the distance\n",
    "    distances.sort(key=itemgetter(1))\n",
    "\n",
    "    # get the k closest neighbors \n",
    "    for i in range(k): \n",
    "        neighbors.append(distances[i][0])\n",
    "\n",
    "    return neighbors\n",
    "\n",
    "# knn prediction. default k is set to 5.\n",
    "def knn(x, y, k = 5): \n",
    "    neighbors = get_neighbors(x, y, k)\n",
    "    output_y = []\n",
    "\n",
    "    # loop through the neighbors list \n",
    "    for row in neighbors:\n",
    "        # append y column to output_y list\n",
    "        output_y.append(row[-1])\n",
    "\n",
    "    # count the number of 0's and 1's in the output_y list\n",
    "    cnt_1 = output_y.count(1)\n",
    "    cnt_0 = output_y.count(0)\n",
    "\n",
    "    # return 0 if there's more 0's, and return 1 otherwise.\n",
    "    if cnt_0 > cnt_1:\n",
    "        return 0\n",
    "        \n",
    "    return 1\n",
    "\n",
    "# accuracy test\n",
    "def accuracy_metric(correct_answers, predicted_answers):\n",
    "    correct = 0\n",
    "\n",
    "    # loop through correct_answers list\n",
    "    for i in range(len(correct_answers)):\n",
    "        if correct_answers[i] == predicted_answers[i]:\n",
    "            # increment by 1 if the i-th predicted answer is correct\n",
    "            correct += 1\n",
    "\n",
    "    # return the mean\n",
    "    return correct / float(len(correct_answers)) * 100.0"
   ]
  },
  {
   "cell_type": "code",
   "execution_count": 1044,
   "metadata": {},
   "outputs": [],
   "source": [
    "# split train data set into train and validation datasets (75:25)\n",
    "validation = train[222:] # 75% of total rows \n",
    "train = train[:222:]     # 25% of total rows"
   ]
  },
  {
   "cell_type": "code",
   "execution_count": 1045,
   "metadata": {},
   "outputs": [],
   "source": [
    "correct_answers = []\n",
    "\n",
    "# append y column from validation dataset as the correct answers for testing\n",
    "for row in validation:\n",
    "    correct_answers.append(row[4])"
   ]
  },
  {
   "cell_type": "code",
   "execution_count": 1046,
   "metadata": {},
   "outputs": [
    {
     "name": "stdout",
     "output_type": "stream",
     "text": [
      "18 72.97297297297297\n"
     ]
    }
   ],
   "source": [
    "best_acc = 0\n",
    "best_k = 0\n",
    "\n",
    "# get the best hyperparameter \n",
    "for k in range(1, 100):\n",
    "    output = []\n",
    "    for row in validation: \n",
    "        prediction = (knn(train, row[1:4], k))\n",
    "        output.append(prediction)\n",
    "    \n",
    "    acc = accuracy_metric(correct_answers, output)\n",
    "    if best_acc < acc:\n",
    "        best_acc = acc\n",
    "        best_k = k \n",
    "    \n",
    "print(best_k, best_acc)"
   ]
  },
  {
   "cell_type": "code",
   "execution_count": 1047,
   "metadata": {},
   "outputs": [],
   "source": [
    "output_y = []\n",
    "\n",
    "# get the test dataset answers using knn\n",
    "for row in test:\n",
    "    prediction = (knn(train, row[1:4], best_k))\n",
    "    output_y.append(prediction)"
   ]
  },
  {
   "cell_type": "code",
   "execution_count": 1048,
   "metadata": {},
   "outputs": [],
   "source": [
    "# append output_y list to test dataframe\n",
    "df_test['y'] = output_y\n",
    "df_test"
   ]
  },
  {
   "cell_type": "code",
   "execution_count": null,
   "metadata": {},
   "outputs": [],
   "source": [
    "df_test.to_excel(\"jawaban_test.xlsx\", index = False, header=True)"
   ]
  }
 ],
 "metadata": {
  "kernelspec": {
   "display_name": "Python 3.10.4 64-bit",
   "language": "python",
   "name": "python3"
  },
  "language_info": {
   "codemirror_mode": {
    "name": "ipython",
    "version": 3
   },
   "file_extension": ".py",
   "mimetype": "text/x-python",
   "name": "python",
   "nbconvert_exporter": "python",
   "pygments_lexer": "ipython3",
   "version": "3.10.4"
  },
  "orig_nbformat": 4,
  "vscode": {
   "interpreter": {
    "hash": "916dbcbb3f70747c44a77c7bcd40155683ae19c65e1c03b4aa3499c5328201f1"
   }
  }
 },
 "nbformat": 4,
 "nbformat_minor": 2
}
